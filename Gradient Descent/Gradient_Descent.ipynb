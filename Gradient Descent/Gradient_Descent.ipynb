{
  "nbformat": 4,
  "nbformat_minor": 0,
  "metadata": {
    "colab": {
      "provenance": []
    },
    "kernelspec": {
      "name": "python3",
      "display_name": "Python 3"
    },
    "language_info": {
      "name": "python"
    }
  },
  "cells": [
    {
      "cell_type": "code",
      "execution_count": null,
      "metadata": {
        "id": "lNUNQ66k6lP1"
      },
      "outputs": [],
      "source": [
        "import numpy as np"
      ]
    },
    {
      "cell_type": "code",
      "source": [
        "def sgd_quadratic(a, b, c, learning_rate, epochs):\n",
        "\n",
        "    a_pred = np.random.randint(-10, 10)\n",
        "    b_pred = np.random.randint(-10, 10)\n",
        "    c_pred = np.random.randint(-10, 10)\n",
        "\n",
        "    for epoch in range(epochs):\n",
        "\n",
        "        y_pred = a_pred * x**2 + b_pred * x + c_pred\n",
        "\n",
        "\n",
        "        loss = max(0, abs(y_pred - y))\n",
        "\n",
        "        grad_a = 2 * (y_pred - y) * x**2\n",
        "        grad_b = 2 * (y_pred - y) * x\n",
        "        grad_c = 2 * (y_pred - y)\n",
        "\n",
        "        a_pred -= learning_rate * grad_a\n",
        "        b_pred -= learning_rate * grad_b\n",
        "        c_pred -= learning_rate * grad_c\n",
        "\n",
        "    return a_pred, b_pred, c_pred\n"
      ],
      "metadata": {
        "id": "Eunyin3f6ug8"
      },
      "execution_count": null,
      "outputs": []
    },
    {
      "cell_type": "code",
      "source": [
        "a = int(input(\"Enter coefficient a: \"))\n",
        "b = int(input(\"Enter coefficient b: \"))\n",
        "c = int(input(\"Enter coefficient c: \"))"
      ],
      "metadata": {
        "colab": {
          "base_uri": "https://localhost:8080/"
        },
        "id": "7p1v6WZg62fw",
        "outputId": "31255c8a-73f7-44a7-f1a2-144c3ec1f4e7"
      },
      "execution_count": null,
      "outputs": [
        {
          "name": "stdout",
          "output_type": "stream",
          "text": [
            "Enter coefficient a: 2\n",
            "Enter coefficient b: -5\n",
            "Enter coefficient c: 3\n"
          ]
        }
      ]
    },
    {
      "cell_type": "code",
      "source": [
        "learning_rate = 0.01\n",
        "epochs = 10000"
      ],
      "metadata": {
        "id": "ZMHosXHe64RF"
      },
      "execution_count": null,
      "outputs": []
    },
    {
      "cell_type": "code",
      "source": [
        "discriminant = b**2 - 4 * a * c\n",
        "if discriminant >= 0:\n",
        "\n",
        "    x1 = (-b + np.sqrt(discriminant)) / (2 * a)\n",
        "    x2 = (-b - np.sqrt(discriminant)) / (2 * a)\n",
        "    print(\"Solutions:\", x1, x2)\n",
        "else:\n",
        "    print(\"No real solutions\")"
      ],
      "metadata": {
        "colab": {
          "base_uri": "https://localhost:8080/"
        },
        "id": "O-ibI-2W7F-i",
        "outputId": "c959f759-f839-42d9-cfc3-8f9f6b2a5da4"
      },
      "execution_count": null,
      "outputs": [
        {
          "output_type": "stream",
          "name": "stdout",
          "text": [
            "Solutions: 1.5 1.0\n"
          ]
        }
      ]
    },
    {
      "cell_type": "code",
      "source": [],
      "metadata": {
        "id": "aUV6jeo_7JnL"
      },
      "execution_count": null,
      "outputs": []
    }
  ]
}