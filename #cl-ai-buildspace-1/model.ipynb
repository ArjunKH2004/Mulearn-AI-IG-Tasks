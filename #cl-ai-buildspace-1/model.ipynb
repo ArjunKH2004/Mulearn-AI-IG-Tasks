import numpy as np
import pandas as pd
import seaborn as sns
import matplotlib.pyplot as plt
from sklearn.model_selection import train_test_split
from sklearn.linear_model import LinearRegression
import sklearn.metrics as sn

data =pd.read_csv('Salary_Data.csv')
print(data.head())
sns.lmplot (x="YearsExperience",y="Salary",data =data, ci =None)
plt.show()
x =np.array(data['YearsExperience']).reshape(-1,1)
y =np.array(data['Salary']).reshape(-1,1)
x_train,x_test,y_train,y_test =train_test_split(x,y,test_size =0.25)
regr =LinearRegression()
regr.fit(x_train,y_train)
y_pred =regr.predict(x_test)
plt.scatter(x_test,y_test,color='b')
plt.plot(x_test,y_pred,color ='k')
plt.show()
print("R2 score =",round(sn.r2_score(y_test,y_pred),2))
